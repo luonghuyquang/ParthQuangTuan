{
 "cells": [
  {
   "cell_type": "markdown",
   "metadata": {},
   "source": [
    "# Assignment 2 (Predictive Analytics with Python)\n",
    "## Parth Patel, Quang Luong, Tuan Dang (CA2022)\n",
    "### Part 1: Familiarizing and basic testing with the k-means algorithm\n",
    "#### 1.1 Find some other interesting dataset than the Iris dataset from Kaggle on which you can perform kNN classification\n",
    "We select the Unsupervised Learning on Country Datadataset from Kaggle:  \n",
    "https://www.kaggle.com/datasets/rohan0301/unsupervised-learning-on-country-data\n",
    "This dataset is in the public domain (licence CC0), and its usability is 10.00 by kaggle calculation. The dataset size is 10 kB.  \n",
    "  \n",
    "![alt text](./Country_dataset.jpg \"Unsupervised Learning on Country Data - Kaggle\")"
   ]
  },
  {
   "cell_type": "code",
   "execution_count": 1,
   "metadata": {},
   "outputs": [],
   "source": [
    "# first, we import neccessary tools\n",
    "import pandas as pd\n",
    "from sklearn.preprocessing import MinMaxScaler\n",
    "import seaborn as sns\n",
    "from sklearn.cluster import KMeans # using sklearn as indicated\n",
    "from matplotlib import pyplot as plt"
   ]
  },
  {
   "cell_type": "markdown",
   "metadata": {},
   "source": [
    "After downloading the dataset, we save it in the same working folder with this ipynb file. The file name is Country-data.csv  \n",
    "* *We read the file with the following code:*"
   ]
  },
  {
   "cell_type": "code",
   "execution_count": 2,
   "metadata": {},
   "outputs": [
    {
     "name": "stdout",
     "output_type": "stream",
     "text": [
      "<class 'pandas.core.frame.DataFrame'>\n",
      "RangeIndex: 167 entries, 0 to 166\n",
      "Data columns (total 10 columns):\n",
      " #   Column      Non-Null Count  Dtype  \n",
      "---  ------      --------------  -----  \n",
      " 0   country     167 non-null    object \n",
      " 1   child_mort  167 non-null    float64\n",
      " 2   exports     167 non-null    float64\n",
      " 3   health      167 non-null    float64\n",
      " 4   imports     167 non-null    float64\n",
      " 5   income      167 non-null    int64  \n",
      " 6   inflation   167 non-null    float64\n",
      " 7   life_expec  167 non-null    float64\n",
      " 8   total_fer   167 non-null    float64\n",
      " 9   gdpp        167 non-null    int64  \n",
      "dtypes: float64(7), int64(2), object(1)\n",
      "memory usage: 13.2+ KB\n"
     ]
    }
   ],
   "source": [
    "# Get the country data dataframe (df) from the csv file\n",
    "df=pd.read_csv(\"Country-data.csv\", header=0)\n",
    "# Display the information of the dataframe\n",
    "df.info()"
   ]
  },
  {
   "cell_type": "markdown",
   "metadata": {},
   "source": [
    "*Observation: there are 167 row of data in the dataset and no missing data*  \n",
    "*There are 10 column, country is the id, and other columns are the features (of types fload64 or int64)*  \n",
    "* *Let's explore the meaning of the features, as provided in the data-dictionary.csv*"
   ]
  },
  {
   "cell_type": "code",
   "execution_count": 3,
   "metadata": {},
   "outputs": [
    {
     "data": {
      "text/html": [
       "<div>\n",
       "<style scoped>\n",
       "    .dataframe tbody tr th:only-of-type {\n",
       "        vertical-align: middle;\n",
       "    }\n",
       "\n",
       "    .dataframe tbody tr th {\n",
       "        vertical-align: top;\n",
       "    }\n",
       "\n",
       "    .dataframe thead th {\n",
       "        text-align: right;\n",
       "    }\n",
       "</style>\n",
       "<table border=\"1\" class=\"dataframe\">\n",
       "  <thead>\n",
       "    <tr style=\"text-align: right;\">\n",
       "      <th></th>\n",
       "      <th>Column Name</th>\n",
       "      <th>Description</th>\n",
       "    </tr>\n",
       "  </thead>\n",
       "  <tbody>\n",
       "    <tr>\n",
       "      <th>0</th>\n",
       "      <td>country</td>\n",
       "      <td>Name of the country</td>\n",
       "    </tr>\n",
       "    <tr>\n",
       "      <th>1</th>\n",
       "      <td>child_mort</td>\n",
       "      <td>Death of children under 5 years of age per 1000 live births</td>\n",
       "    </tr>\n",
       "    <tr>\n",
       "      <th>2</th>\n",
       "      <td>exports</td>\n",
       "      <td>Exports of goods and services per capita. Given as %age of the GDP per capita</td>\n",
       "    </tr>\n",
       "    <tr>\n",
       "      <th>3</th>\n",
       "      <td>health</td>\n",
       "      <td>Total health spending per capita. Given as %age of GDP per capita</td>\n",
       "    </tr>\n",
       "    <tr>\n",
       "      <th>4</th>\n",
       "      <td>imports</td>\n",
       "      <td>Imports of goods and services per capita. Given as %age of the GDP per capita</td>\n",
       "    </tr>\n",
       "    <tr>\n",
       "      <th>5</th>\n",
       "      <td>Income</td>\n",
       "      <td>Net income per person</td>\n",
       "    </tr>\n",
       "    <tr>\n",
       "      <th>6</th>\n",
       "      <td>Inflation</td>\n",
       "      <td>The measurement of the annual growth rate of the Total GDP</td>\n",
       "    </tr>\n",
       "    <tr>\n",
       "      <th>7</th>\n",
       "      <td>life_expec</td>\n",
       "      <td>The average number of years a new born child would live if the current mortality patterns are to remain the same</td>\n",
       "    </tr>\n",
       "    <tr>\n",
       "      <th>8</th>\n",
       "      <td>total_fer</td>\n",
       "      <td>The number of children that would be born to each woman if the current age-fertility rates remain the same.</td>\n",
       "    </tr>\n",
       "    <tr>\n",
       "      <th>9</th>\n",
       "      <td>gdpp</td>\n",
       "      <td>The GDP per capita. Calculated as the Total GDP divided by the total population.</td>\n",
       "    </tr>\n",
       "  </tbody>\n",
       "</table>\n",
       "</div>"
      ],
      "text/plain": [
       "  Column Name  \\\n",
       "0     country   \n",
       "1  child_mort   \n",
       "2     exports   \n",
       "3      health   \n",
       "4     imports   \n",
       "5      Income   \n",
       "6   Inflation   \n",
       "7  life_expec   \n",
       "8   total_fer   \n",
       "9        gdpp   \n",
       "\n",
       "                                                                                                        Description  \n",
       "0                                                                                               Name of the country  \n",
       "1                                                       Death of children under 5 years of age per 1000 live births  \n",
       "2                                     Exports of goods and services per capita. Given as %age of the GDP per capita  \n",
       "3                                                 Total health spending per capita. Given as %age of GDP per capita  \n",
       "4                                     Imports of goods and services per capita. Given as %age of the GDP per capita  \n",
       "5                                                                                             Net income per person  \n",
       "6                                                        The measurement of the annual growth rate of the Total GDP  \n",
       "7  The average number of years a new born child would live if the current mortality patterns are to remain the same  \n",
       "8       The number of children that would be born to each woman if the current age-fertility rates remain the same.  \n",
       "9                                  The GDP per capita. Calculated as the Total GDP divided by the total population.  "
      ]
     },
     "execution_count": 3,
     "metadata": {},
     "output_type": "execute_result"
    }
   ],
   "source": [
    "# read the csv file\n",
    "data_dictionary=pd.read_csv('data-dictionary.csv', header=0)\n",
    "# set the column width to read all content (not too long)\n",
    "pd.set_option('max_colwidth', 120)\n",
    "# display the data dictionary\n",
    "data_dictionary"
   ]
  },
  {
   "cell_type": "markdown",
   "metadata": {},
   "source": [
    "* *Check if the countries are unique*"
   ]
  },
  {
   "cell_type": "code",
   "execution_count": 4,
   "metadata": {},
   "outputs": [
    {
     "data": {
      "text/plain": [
       "167"
      ]
     },
     "execution_count": 4,
     "metadata": {},
     "output_type": "execute_result"
    }
   ],
   "source": [
    "df['country'].nunique()"
   ]
  },
  {
   "cell_type": "markdown",
   "metadata": {},
   "source": [
    "*There are 167 rows and 167 unique countries, so each country is unique*  \n",
    "* *Now we display a summary of the dataset*"
   ]
  },
  {
   "cell_type": "code",
   "execution_count": 5,
   "metadata": {},
   "outputs": [
    {
     "data": {
      "text/html": [
       "<div>\n",
       "<style scoped>\n",
       "    .dataframe tbody tr th:only-of-type {\n",
       "        vertical-align: middle;\n",
       "    }\n",
       "\n",
       "    .dataframe tbody tr th {\n",
       "        vertical-align: top;\n",
       "    }\n",
       "\n",
       "    .dataframe thead th {\n",
       "        text-align: right;\n",
       "    }\n",
       "</style>\n",
       "<table border=\"1\" class=\"dataframe\">\n",
       "  <thead>\n",
       "    <tr style=\"text-align: right;\">\n",
       "      <th></th>\n",
       "      <th>count</th>\n",
       "      <th>mean</th>\n",
       "      <th>std</th>\n",
       "      <th>min</th>\n",
       "      <th>25%</th>\n",
       "      <th>50%</th>\n",
       "      <th>75%</th>\n",
       "      <th>max</th>\n",
       "    </tr>\n",
       "  </thead>\n",
       "  <tbody>\n",
       "    <tr>\n",
       "      <th>child_mort</th>\n",
       "      <td>167.0</td>\n",
       "      <td>38.270060</td>\n",
       "      <td>40.328931</td>\n",
       "      <td>2.6000</td>\n",
       "      <td>8.250</td>\n",
       "      <td>19.30</td>\n",
       "      <td>62.10</td>\n",
       "      <td>208.00</td>\n",
       "    </tr>\n",
       "    <tr>\n",
       "      <th>exports</th>\n",
       "      <td>167.0</td>\n",
       "      <td>41.108976</td>\n",
       "      <td>27.412010</td>\n",
       "      <td>0.1090</td>\n",
       "      <td>23.800</td>\n",
       "      <td>35.00</td>\n",
       "      <td>51.35</td>\n",
       "      <td>200.00</td>\n",
       "    </tr>\n",
       "    <tr>\n",
       "      <th>health</th>\n",
       "      <td>167.0</td>\n",
       "      <td>6.815689</td>\n",
       "      <td>2.746837</td>\n",
       "      <td>1.8100</td>\n",
       "      <td>4.920</td>\n",
       "      <td>6.32</td>\n",
       "      <td>8.60</td>\n",
       "      <td>17.90</td>\n",
       "    </tr>\n",
       "    <tr>\n",
       "      <th>imports</th>\n",
       "      <td>167.0</td>\n",
       "      <td>46.890215</td>\n",
       "      <td>24.209589</td>\n",
       "      <td>0.0659</td>\n",
       "      <td>30.200</td>\n",
       "      <td>43.30</td>\n",
       "      <td>58.75</td>\n",
       "      <td>174.00</td>\n",
       "    </tr>\n",
       "    <tr>\n",
       "      <th>income</th>\n",
       "      <td>167.0</td>\n",
       "      <td>17144.688623</td>\n",
       "      <td>19278.067698</td>\n",
       "      <td>609.0000</td>\n",
       "      <td>3355.000</td>\n",
       "      <td>9960.00</td>\n",
       "      <td>22800.00</td>\n",
       "      <td>125000.00</td>\n",
       "    </tr>\n",
       "    <tr>\n",
       "      <th>inflation</th>\n",
       "      <td>167.0</td>\n",
       "      <td>7.781832</td>\n",
       "      <td>10.570704</td>\n",
       "      <td>-4.2100</td>\n",
       "      <td>1.810</td>\n",
       "      <td>5.39</td>\n",
       "      <td>10.75</td>\n",
       "      <td>104.00</td>\n",
       "    </tr>\n",
       "    <tr>\n",
       "      <th>life_expec</th>\n",
       "      <td>167.0</td>\n",
       "      <td>70.555689</td>\n",
       "      <td>8.893172</td>\n",
       "      <td>32.1000</td>\n",
       "      <td>65.300</td>\n",
       "      <td>73.10</td>\n",
       "      <td>76.80</td>\n",
       "      <td>82.80</td>\n",
       "    </tr>\n",
       "    <tr>\n",
       "      <th>total_fer</th>\n",
       "      <td>167.0</td>\n",
       "      <td>2.947964</td>\n",
       "      <td>1.513848</td>\n",
       "      <td>1.1500</td>\n",
       "      <td>1.795</td>\n",
       "      <td>2.41</td>\n",
       "      <td>3.88</td>\n",
       "      <td>7.49</td>\n",
       "    </tr>\n",
       "    <tr>\n",
       "      <th>gdpp</th>\n",
       "      <td>167.0</td>\n",
       "      <td>12964.155689</td>\n",
       "      <td>18328.704809</td>\n",
       "      <td>231.0000</td>\n",
       "      <td>1330.000</td>\n",
       "      <td>4660.00</td>\n",
       "      <td>14050.00</td>\n",
       "      <td>105000.00</td>\n",
       "    </tr>\n",
       "  </tbody>\n",
       "</table>\n",
       "</div>"
      ],
      "text/plain": [
       "            count          mean           std       min       25%      50%  \\\n",
       "child_mort  167.0     38.270060     40.328931    2.6000     8.250    19.30   \n",
       "exports     167.0     41.108976     27.412010    0.1090    23.800    35.00   \n",
       "health      167.0      6.815689      2.746837    1.8100     4.920     6.32   \n",
       "imports     167.0     46.890215     24.209589    0.0659    30.200    43.30   \n",
       "income      167.0  17144.688623  19278.067698  609.0000  3355.000  9960.00   \n",
       "inflation   167.0      7.781832     10.570704   -4.2100     1.810     5.39   \n",
       "life_expec  167.0     70.555689      8.893172   32.1000    65.300    73.10   \n",
       "total_fer   167.0      2.947964      1.513848    1.1500     1.795     2.41   \n",
       "gdpp        167.0  12964.155689  18328.704809  231.0000  1330.000  4660.00   \n",
       "\n",
       "                 75%        max  \n",
       "child_mort     62.10     208.00  \n",
       "exports        51.35     200.00  \n",
       "health          8.60      17.90  \n",
       "imports        58.75     174.00  \n",
       "income      22800.00  125000.00  \n",
       "inflation      10.75     104.00  \n",
       "life_expec     76.80      82.80  \n",
       "total_fer       3.88       7.49  \n",
       "gdpp        14050.00  105000.00  "
      ]
     },
     "execution_count": 5,
     "metadata": {},
     "output_type": "execute_result"
    }
   ],
   "source": [
    "# Get summary of each numeric column\n",
    "df.describe().T"
   ]
  },
  {
   "cell_type": "markdown",
   "metadata": {},
   "source": [
    "Let's apply the MinMaxScaler to ensure that each feature contributes equally to the distance computations."
   ]
  },
  {
   "cell_type": "code",
   "execution_count": 6,
   "metadata": {},
   "outputs": [
    {
     "data": {
      "text/html": [
       "<div>\n",
       "<style scoped>\n",
       "    .dataframe tbody tr th:only-of-type {\n",
       "        vertical-align: middle;\n",
       "    }\n",
       "\n",
       "    .dataframe tbody tr th {\n",
       "        vertical-align: top;\n",
       "    }\n",
       "\n",
       "    .dataframe thead th {\n",
       "        text-align: right;\n",
       "    }\n",
       "</style>\n",
       "<table border=\"1\" class=\"dataframe\">\n",
       "  <thead>\n",
       "    <tr style=\"text-align: right;\">\n",
       "      <th></th>\n",
       "      <th>count</th>\n",
       "      <th>mean</th>\n",
       "      <th>std</th>\n",
       "      <th>min</th>\n",
       "      <th>25%</th>\n",
       "      <th>50%</th>\n",
       "      <th>75%</th>\n",
       "      <th>max</th>\n",
       "    </tr>\n",
       "  </thead>\n",
       "  <tbody>\n",
       "    <tr>\n",
       "      <th>child_mort</th>\n",
       "      <td>167.0</td>\n",
       "      <td>0.173661</td>\n",
       "      <td>0.196343</td>\n",
       "      <td>0.0</td>\n",
       "      <td>0.027507</td>\n",
       "      <td>0.081305</td>\n",
       "      <td>0.289679</td>\n",
       "      <td>1.0</td>\n",
       "    </tr>\n",
       "    <tr>\n",
       "      <th>exports</th>\n",
       "      <td>167.0</td>\n",
       "      <td>0.205112</td>\n",
       "      <td>0.137135</td>\n",
       "      <td>0.0</td>\n",
       "      <td>0.118520</td>\n",
       "      <td>0.174550</td>\n",
       "      <td>0.256345</td>\n",
       "      <td>1.0</td>\n",
       "    </tr>\n",
       "    <tr>\n",
       "      <th>health</th>\n",
       "      <td>167.0</td>\n",
       "      <td>0.311106</td>\n",
       "      <td>0.170717</td>\n",
       "      <td>0.0</td>\n",
       "      <td>0.193288</td>\n",
       "      <td>0.280298</td>\n",
       "      <td>0.422001</td>\n",
       "      <td>1.0</td>\n",
       "    </tr>\n",
       "    <tr>\n",
       "      <th>imports</th>\n",
       "      <td>167.0</td>\n",
       "      <td>0.269207</td>\n",
       "      <td>0.139188</td>\n",
       "      <td>0.0</td>\n",
       "      <td>0.173250</td>\n",
       "      <td>0.248566</td>\n",
       "      <td>0.337393</td>\n",
       "      <td>1.0</td>\n",
       "    </tr>\n",
       "    <tr>\n",
       "      <th>income</th>\n",
       "      <td>167.0</td>\n",
       "      <td>0.132933</td>\n",
       "      <td>0.154980</td>\n",
       "      <td>0.0</td>\n",
       "      <td>0.022076</td>\n",
       "      <td>0.075174</td>\n",
       "      <td>0.178397</td>\n",
       "      <td>1.0</td>\n",
       "    </tr>\n",
       "    <tr>\n",
       "      <th>inflation</th>\n",
       "      <td>167.0</td>\n",
       "      <td>0.110820</td>\n",
       "      <td>0.097687</td>\n",
       "      <td>0.0</td>\n",
       "      <td>0.055633</td>\n",
       "      <td>0.088716</td>\n",
       "      <td>0.138250</td>\n",
       "      <td>1.0</td>\n",
       "    </tr>\n",
       "    <tr>\n",
       "      <th>life_expec</th>\n",
       "      <td>167.0</td>\n",
       "      <td>0.758495</td>\n",
       "      <td>0.175408</td>\n",
       "      <td>0.0</td>\n",
       "      <td>0.654832</td>\n",
       "      <td>0.808679</td>\n",
       "      <td>0.881657</td>\n",
       "      <td>1.0</td>\n",
       "    </tr>\n",
       "    <tr>\n",
       "      <th>total_fer</th>\n",
       "      <td>167.0</td>\n",
       "      <td>0.283591</td>\n",
       "      <td>0.238777</td>\n",
       "      <td>0.0</td>\n",
       "      <td>0.101735</td>\n",
       "      <td>0.198738</td>\n",
       "      <td>0.430599</td>\n",
       "      <td>1.0</td>\n",
       "    </tr>\n",
       "    <tr>\n",
       "      <th>gdpp</th>\n",
       "      <td>167.0</td>\n",
       "      <td>0.121536</td>\n",
       "      <td>0.174944</td>\n",
       "      <td>0.0</td>\n",
       "      <td>0.010490</td>\n",
       "      <td>0.042274</td>\n",
       "      <td>0.131900</td>\n",
       "      <td>1.0</td>\n",
       "    </tr>\n",
       "  </tbody>\n",
       "</table>\n",
       "</div>"
      ],
      "text/plain": [
       "            count      mean       std  min       25%       50%       75%  max\n",
       "child_mort  167.0  0.173661  0.196343  0.0  0.027507  0.081305  0.289679  1.0\n",
       "exports     167.0  0.205112  0.137135  0.0  0.118520  0.174550  0.256345  1.0\n",
       "health      167.0  0.311106  0.170717  0.0  0.193288  0.280298  0.422001  1.0\n",
       "imports     167.0  0.269207  0.139188  0.0  0.173250  0.248566  0.337393  1.0\n",
       "income      167.0  0.132933  0.154980  0.0  0.022076  0.075174  0.178397  1.0\n",
       "inflation   167.0  0.110820  0.097687  0.0  0.055633  0.088716  0.138250  1.0\n",
       "life_expec  167.0  0.758495  0.175408  0.0  0.654832  0.808679  0.881657  1.0\n",
       "total_fer   167.0  0.283591  0.238777  0.0  0.101735  0.198738  0.430599  1.0\n",
       "gdpp        167.0  0.121536  0.174944  0.0  0.010490  0.042274  0.131900  1.0"
      ]
     },
     "execution_count": 6,
     "metadata": {},
     "output_type": "execute_result"
    }
   ],
   "source": [
    "# the features to scale (the 9 numeric columns)\n",
    "features = ['child_mort', 'exports', 'health', 'imports', 'income', 'inflation', 'life_expec', 'total_fer', 'gdpp']\n",
    "# call the MinMaxScaler\n",
    "scaler = MinMaxScaler()\n",
    "# scale the features all at once\n",
    "df[features] = scaler.fit_transform(df[features])\n",
    "# display the df with newly scaled features\n",
    "df.describe().T"
   ]
  },
  {
   "cell_type": "markdown",
   "metadata": {},
   "source": [
    "*Observation: now we can see that the min is 0 and max is 1 for all features*  \n",
    "* *Let's create a dataframe of numeric columns only for further processing (drop the country)*"
   ]
  },
  {
   "cell_type": "code",
   "execution_count": 7,
   "metadata": {},
   "outputs": [
    {
     "data": {
      "text/html": [
       "<div>\n",
       "<style scoped>\n",
       "    .dataframe tbody tr th:only-of-type {\n",
       "        vertical-align: middle;\n",
       "    }\n",
       "\n",
       "    .dataframe tbody tr th {\n",
       "        vertical-align: top;\n",
       "    }\n",
       "\n",
       "    .dataframe thead th {\n",
       "        text-align: right;\n",
       "    }\n",
       "</style>\n",
       "<table border=\"1\" class=\"dataframe\">\n",
       "  <thead>\n",
       "    <tr style=\"text-align: right;\">\n",
       "      <th></th>\n",
       "      <th>child_mort</th>\n",
       "      <th>exports</th>\n",
       "      <th>health</th>\n",
       "      <th>imports</th>\n",
       "      <th>income</th>\n",
       "      <th>inflation</th>\n",
       "      <th>life_expec</th>\n",
       "      <th>total_fer</th>\n",
       "      <th>gdpp</th>\n",
       "    </tr>\n",
       "  </thead>\n",
       "  <tbody>\n",
       "    <tr>\n",
       "      <th>0</th>\n",
       "      <td>0.426485</td>\n",
       "      <td>0.049482</td>\n",
       "      <td>0.358608</td>\n",
       "      <td>0.257765</td>\n",
       "      <td>0.008047</td>\n",
       "      <td>0.126144</td>\n",
       "      <td>0.475345</td>\n",
       "      <td>0.736593</td>\n",
       "      <td>0.003073</td>\n",
       "    </tr>\n",
       "    <tr>\n",
       "      <th>1</th>\n",
       "      <td>0.068160</td>\n",
       "      <td>0.139531</td>\n",
       "      <td>0.294593</td>\n",
       "      <td>0.279037</td>\n",
       "      <td>0.074933</td>\n",
       "      <td>0.080399</td>\n",
       "      <td>0.871795</td>\n",
       "      <td>0.078864</td>\n",
       "      <td>0.036833</td>\n",
       "    </tr>\n",
       "    <tr>\n",
       "      <th>2</th>\n",
       "      <td>0.120253</td>\n",
       "      <td>0.191559</td>\n",
       "      <td>0.146675</td>\n",
       "      <td>0.180149</td>\n",
       "      <td>0.098809</td>\n",
       "      <td>0.187691</td>\n",
       "      <td>0.875740</td>\n",
       "      <td>0.274448</td>\n",
       "      <td>0.040365</td>\n",
       "    </tr>\n",
       "    <tr>\n",
       "      <th>3</th>\n",
       "      <td>0.566699</td>\n",
       "      <td>0.311125</td>\n",
       "      <td>0.064636</td>\n",
       "      <td>0.246266</td>\n",
       "      <td>0.042535</td>\n",
       "      <td>0.245911</td>\n",
       "      <td>0.552268</td>\n",
       "      <td>0.790221</td>\n",
       "      <td>0.031488</td>\n",
       "    </tr>\n",
       "    <tr>\n",
       "      <th>4</th>\n",
       "      <td>0.037488</td>\n",
       "      <td>0.227079</td>\n",
       "      <td>0.262275</td>\n",
       "      <td>0.338255</td>\n",
       "      <td>0.148652</td>\n",
       "      <td>0.052213</td>\n",
       "      <td>0.881657</td>\n",
       "      <td>0.154574</td>\n",
       "      <td>0.114242</td>\n",
       "    </tr>\n",
       "    <tr>\n",
       "      <th>...</th>\n",
       "      <td>...</td>\n",
       "      <td>...</td>\n",
       "      <td>...</td>\n",
       "      <td>...</td>\n",
       "      <td>...</td>\n",
       "      <td>...</td>\n",
       "      <td>...</td>\n",
       "      <td>...</td>\n",
       "      <td>...</td>\n",
       "    </tr>\n",
       "    <tr>\n",
       "      <th>162</th>\n",
       "      <td>0.129503</td>\n",
       "      <td>0.232582</td>\n",
       "      <td>0.213797</td>\n",
       "      <td>0.302609</td>\n",
       "      <td>0.018820</td>\n",
       "      <td>0.063118</td>\n",
       "      <td>0.609467</td>\n",
       "      <td>0.370662</td>\n",
       "      <td>0.026143</td>\n",
       "    </tr>\n",
       "    <tr>\n",
       "      <th>163</th>\n",
       "      <td>0.070594</td>\n",
       "      <td>0.142032</td>\n",
       "      <td>0.192666</td>\n",
       "      <td>0.100809</td>\n",
       "      <td>0.127750</td>\n",
       "      <td>0.463081</td>\n",
       "      <td>0.854043</td>\n",
       "      <td>0.208202</td>\n",
       "      <td>0.126650</td>\n",
       "    </tr>\n",
       "    <tr>\n",
       "      <th>164</th>\n",
       "      <td>0.100779</td>\n",
       "      <td>0.359651</td>\n",
       "      <td>0.312617</td>\n",
       "      <td>0.460715</td>\n",
       "      <td>0.031200</td>\n",
       "      <td>0.150725</td>\n",
       "      <td>0.808679</td>\n",
       "      <td>0.126183</td>\n",
       "      <td>0.010299</td>\n",
       "    </tr>\n",
       "    <tr>\n",
       "      <th>165</th>\n",
       "      <td>0.261441</td>\n",
       "      <td>0.149536</td>\n",
       "      <td>0.209447</td>\n",
       "      <td>0.197397</td>\n",
       "      <td>0.031120</td>\n",
       "      <td>0.257000</td>\n",
       "      <td>0.698225</td>\n",
       "      <td>0.555205</td>\n",
       "      <td>0.010299</td>\n",
       "    </tr>\n",
       "    <tr>\n",
       "      <th>166</th>\n",
       "      <td>0.391918</td>\n",
       "      <td>0.184556</td>\n",
       "      <td>0.253574</td>\n",
       "      <td>0.177275</td>\n",
       "      <td>0.021473</td>\n",
       "      <td>0.168284</td>\n",
       "      <td>0.392505</td>\n",
       "      <td>0.670347</td>\n",
       "      <td>0.011731</td>\n",
       "    </tr>\n",
       "  </tbody>\n",
       "</table>\n",
       "<p>167 rows × 9 columns</p>\n",
       "</div>"
      ],
      "text/plain": [
       "     child_mort   exports    health   imports    income  inflation  \\\n",
       "0      0.426485  0.049482  0.358608  0.257765  0.008047   0.126144   \n",
       "1      0.068160  0.139531  0.294593  0.279037  0.074933   0.080399   \n",
       "2      0.120253  0.191559  0.146675  0.180149  0.098809   0.187691   \n",
       "3      0.566699  0.311125  0.064636  0.246266  0.042535   0.245911   \n",
       "4      0.037488  0.227079  0.262275  0.338255  0.148652   0.052213   \n",
       "..          ...       ...       ...       ...       ...        ...   \n",
       "162    0.129503  0.232582  0.213797  0.302609  0.018820   0.063118   \n",
       "163    0.070594  0.142032  0.192666  0.100809  0.127750   0.463081   \n",
       "164    0.100779  0.359651  0.312617  0.460715  0.031200   0.150725   \n",
       "165    0.261441  0.149536  0.209447  0.197397  0.031120   0.257000   \n",
       "166    0.391918  0.184556  0.253574  0.177275  0.021473   0.168284   \n",
       "\n",
       "     life_expec  total_fer      gdpp  \n",
       "0      0.475345   0.736593  0.003073  \n",
       "1      0.871795   0.078864  0.036833  \n",
       "2      0.875740   0.274448  0.040365  \n",
       "3      0.552268   0.790221  0.031488  \n",
       "4      0.881657   0.154574  0.114242  \n",
       "..          ...        ...       ...  \n",
       "162    0.609467   0.370662  0.026143  \n",
       "163    0.854043   0.208202  0.126650  \n",
       "164    0.808679   0.126183  0.010299  \n",
       "165    0.698225   0.555205  0.010299  \n",
       "166    0.392505   0.670347  0.011731  \n",
       "\n",
       "[167 rows x 9 columns]"
      ]
     },
     "execution_count": 7,
     "metadata": {},
     "output_type": "execute_result"
    }
   ],
   "source": [
    "num_df=df.drop(['country'], axis=1, inplace=False)\n",
    "num_df"
   ]
  },
  {
   "cell_type": "markdown",
   "metadata": {},
   "source": [
    "* *Let's create a heatmap to see the correlation between the pairs of numeric features*"
   ]
  },
  {
   "cell_type": "code",
   "execution_count": 8,
   "metadata": {},
   "outputs": [
    {
     "data": {
      "text/plain": [
       "<Axes: >"
      ]
     },
     "execution_count": 8,
     "metadata": {},
     "output_type": "execute_result"
    },
    {
     "data": {
      "image/png": "[encoded data removed]",
      "text/plain": [
       "<Figure size 640x480 with 2 Axes>"
      ]
     },
     "metadata": {},
     "output_type": "display_data"
    }
   ],
   "source": [
    "corr_matrix=num_df.corr()\n",
    "sns.heatmap(corr_matrix,annot=True)"
   ]
  },
  {
   "cell_type": "markdown",
   "metadata": {},
   "source": [
    "*Observation: High (positive) correlation:*  \n",
    "* *gpdp and income (+ 0.9)*  \n",
    "* *child_mort and total_fer (+0.85)*  \n",
    "* *export and import (+ 0.74)*  \n",
    "\n",
    "*High (negative) correlation:*  \n",
    "* *child_mort and life_expec (-0.89)*  \n",
    "* *life_expect and total_fer (-0.76)*  \n",
    "#### 1.2 Run k-means algorithm on that data. We use the k-means sklearn version."
   ]
  },
  {
   "cell_type": "code",
   "execution_count": 9,
   "metadata": {},
   "outputs": [
    {
     "data": {
      "text/plain": [
       "array([2, 1, 1, 2, 1, 1, 1, 0, 0, 1, 1, 1, 1, 1, 1, 0, 1, 2, 1, 1, 1, 1,\n",
       "       1, 0, 1, 2, 2, 1, 2, 0, 1, 2, 2, 1, 1, 1, 2, 2, 2, 1, 2, 1, 0, 0,\n",
       "       0, 1, 1, 1, 1, 2, 2, 1, 1, 0, 0, 2, 2, 1, 0, 2, 0, 1, 1, 2, 2, 1,\n",
       "       2, 1, 0, 1, 1, 1, 2, 0, 0, 0, 1, 0, 1, 1, 2, 2, 0, 1, 2, 1, 1, 2,\n",
       "       2, 1, 1, 0, 1, 2, 2, 1, 1, 2, 0, 2, 1, 1, 1, 1, 1, 1, 2, 1, 2, 1,\n",
       "       0, 0, 2, 2, 0, 1, 2, 1, 1, 1, 1, 1, 0, 0, 1, 1, 2, 1, 1, 2, 1, 1,\n",
       "       2, 0, 1, 0, 2, 1, 0, 0, 1, 1, 2, 1, 0, 0, 1, 2, 1, 2, 2, 1, 1, 1,\n",
       "       1, 2, 1, 0, 0, 0, 1, 1, 1, 1, 1, 2, 2])"
      ]
     },
     "execution_count": 9,
     "metadata": {},
     "output_type": "execute_result"
    }
   ],
   "source": [
    "# Run K-means algorithm\n",
    "# Let's start with 3 clusters\n",
    "km3 = KMeans(n_clusters=3, n_init=10, random_state=0)\n",
    "yp3 = km3.fit_predict(num_df)\n",
    "yp3"
   ]
  },
  {
   "cell_type": "markdown",
   "metadata": {},
   "source": [
    "#### 1.3 List 2 interesting use cases for applying k-means algorithm for real world. These may or may not be business cases.\n",
    "#### *1.3.1\tMarket Segmentation:* \n",
    "Apply k-means clustering to segment countries based on similarities in features. The algorithm identifies clusters of countries with common characteristics, useful for businesses entering international markets.\n",
    "\n",
    "#### *1.3.2 Human Development Index Classification:*\n",
    "Use k-means clustering to categorize countries based on HDI-related features and focus development efforts. Targeted interventions in healthcare and education may be required for countries with low life expectancy and education levels, while economic development initiatives may benefit those in higher development clusters."
   ]
  },
  {
   "cell_type": "markdown",
   "metadata": {},
   "source": [
    "### Part 2 (Experimenting with the k-means algorithm more in detail)\n",
    "#### 2.1 Make experiments on your algorithms with different values of k (k is n_clusters)\n",
    "* *k = 2*"
   ]
  },
  {
   "cell_type": "code",
   "execution_count": 10,
   "metadata": {},
   "outputs": [
    {
     "data": {
      "text/plain": [
       "array([1, 0, 0, 1, 0, 0, 0, 0, 0, 0, 0, 0, 0, 0, 0, 0, 0, 1, 0, 0, 0, 1,\n",
       "       0, 0, 0, 1, 1, 0, 1, 0, 0, 1, 1, 0, 0, 0, 1, 1, 1, 0, 1, 0, 0, 0,\n",
       "       0, 0, 0, 0, 0, 1, 1, 0, 0, 0, 0, 1, 1, 0, 0, 1, 0, 0, 0, 1, 1, 0,\n",
       "       1, 0, 0, 1, 0, 0, 1, 0, 0, 0, 0, 0, 0, 0, 1, 1, 0, 0, 1, 0, 0, 1,\n",
       "       1, 0, 0, 0, 0, 1, 1, 0, 0, 1, 0, 1, 0, 1, 0, 0, 0, 0, 1, 1, 1, 0,\n",
       "       0, 0, 1, 1, 0, 0, 1, 0, 0, 0, 0, 0, 0, 0, 0, 0, 1, 1, 0, 1, 0, 0,\n",
       "       1, 0, 0, 0, 1, 1, 0, 0, 0, 0, 1, 0, 0, 0, 1, 1, 0, 1, 1, 1, 0, 0,\n",
       "       0, 1, 0, 0, 0, 0, 0, 0, 1, 0, 0, 1, 1])"
      ]
     },
     "execution_count": 10,
     "metadata": {},
     "output_type": "execute_result"
    }
   ],
   "source": [
    "# Run K-means algorithm with different values of k\n",
    "# Let's run with 2 clusters\n",
    "km2 = KMeans(n_clusters=2, n_init=10, random_state=0)\n",
    "yp2 = km2.fit_predict(num_df)\n",
    "yp2"
   ]
  },
  {
   "cell_type": "markdown",
   "metadata": {},
   "source": [
    "* *k = 5*"
   ]
  },
  {
   "cell_type": "code",
   "execution_count": 11,
   "metadata": {},
   "outputs": [
    {
     "data": {
      "text/plain": [
       "array([2, 4, 1, 2, 4, 4, 1, 3, 3, 1, 4, 4, 1, 4, 4, 3, 1, 2, 1, 1, 4, 1,\n",
       "       4, 3, 4, 2, 2, 1, 2, 3, 1, 2, 2, 4, 1, 4, 2, 2, 2, 4, 2, 4, 4, 4,\n",
       "       3, 1, 1, 1, 4, 2, 2, 4, 1, 3, 3, 1, 2, 4, 3, 2, 3, 1, 1, 2, 2, 1,\n",
       "       2, 4, 3, 1, 1, 1, 1, 3, 3, 3, 1, 3, 1, 1, 2, 2, 3, 1, 1, 4, 4, 2,\n",
       "       2, 1, 4, 0, 4, 2, 2, 4, 4, 2, 0, 2, 4, 4, 4, 1, 4, 1, 2, 1, 1, 1,\n",
       "       3, 3, 2, 2, 3, 1, 2, 4, 1, 1, 1, 4, 4, 3, 4, 1, 2, 1, 1, 2, 4, 4,\n",
       "       2, 0, 4, 4, 1, 1, 4, 3, 1, 1, 2, 1, 3, 3, 1, 2, 4, 2, 2, 1, 4, 4,\n",
       "       1, 2, 4, 3, 3, 3, 4, 1, 1, 1, 4, 2, 2])"
      ]
     },
     "execution_count": 11,
     "metadata": {},
     "output_type": "execute_result"
    }
   ],
   "source": [
    "# Run K-means algorithm with different values of k\n",
    "# Let's run with 5 clusters\n",
    "km5 = KMeans(n_clusters=5, n_init=10, random_state=0)\n",
    "yp5 = km5.fit_predict(num_df)\n",
    "yp5"
   ]
  },
  {
   "cell_type": "markdown",
   "metadata": {},
   "source": [
    "#### 2.2 Utilize the Elbow method"
   ]
  },
  {
   "cell_type": "code",
   "execution_count": 12,
   "metadata": {},
   "outputs": [
    {
     "data": {
      "image/png": "[encoded data removed]",
      "text/plain": [
       "<Figure size 640x480 with 1 Axes>"
      ]
     },
     "metadata": {},
     "output_type": "display_data"
    }
   ],
   "source": [
    "# finding the optimal k ('best k')\n",
    "sse = [] # Create an empty list to store SSE values for different k values\n",
    "k_rng = range(1, 10) # Define a range of k values from 1 to 9\n",
    "for k in k_rng:\n",
    "    km = KMeans(n_clusters=k, n_init=10, random_state=0) # Create a KMeans model with the current k value\n",
    "    km.fit(num_df) # Fit the model to the data\n",
    "    sse.append(km.inertia_) # Append the SSE value to the list\n",
    "\n",
    "# Draw elbow graph: Plot SSE for different k values\n",
    "plt.plot(k_rng, sse, marker='o')\n",
    "plt.xlabel('Number of Clusters (k)')\n",
    "plt.ylabel('Sum of Squared Distances (SSE)')\n",
    "plt.title('Elbow Method for Optimal k')\n",
    "plt.show()"
   ]
  },
  {
   "cell_type": "markdown",
   "metadata": {},
   "source": [
    "#### 2.3 Think how is the situation now different from supervised learning (kNN) case\n",
    "K-Means Clustering (Unsupervised Learning):  \n",
    "Usage: Useful when you want to discover patterns or groupings in data without predefined categories.  \n",
    "\n",
    "K-Nearest Neighbour’s (Supervised Learning):  \n",
    "Usage: When you have labeled data, you can use similarity to known instances to predict or classify new instances.  \n",
    "\n",
    "Key Differences:  \n",
    "* K-Means: Unsupervised learning, doesn't require labeled data.  \n",
    "* kNN: Supervised learning, relies on labeled data for training.  \n",
    "* K-Means: Discovers inherent patterns or groups in the data without predefined categories.  \n",
    "* kNN: Predicts or classifies based on known categories in labeled data.\n"
   ]
  },
  {
   "cell_type": "markdown",
   "metadata": {},
   "source": [
    "#### 2.4 Test the effect of various options of the k-means algorithm. (See the sklearn documentation for k-means)\n",
    "*Test the effect of different n_init*"
   ]
  },
  {
   "cell_type": "code",
   "execution_count": 13,
   "metadata": {},
   "outputs": [
    {
     "data": {
      "image/png": "[encoded data removed]",
      "text/plain": [
       "<Figure size 640x480 with 1 Axes>"
      ]
     },
     "metadata": {},
     "output_type": "display_data"
    }
   ],
   "source": [
    "k_best = 5  # \n",
    "n_init_values = [1, 2, 3, 4, 5, 6, 7, 8, 9, 10, 11, 15]\n",
    "\n",
    "sse_n_init = []\n",
    "for n_init in n_init_values:\n",
    "    km = KMeans(n_clusters=k_best, n_init=n_init, random_state=10)\n",
    "    km.fit(num_df)\n",
    "    sse_n_init.append(km.inertia_)\n",
    "\n",
    "# Plot SSE for different n_init values\n",
    "plt.plot(n_init_values, sse_n_init, marker='o')\n",
    "plt.xlabel('Number of Initializations (n_init)')\n",
    "plt.ylabel('Sum of Squared Distances (SSE)')\n",
    "plt.title('Optimal n_init for k={}'.format(k_best))\n",
    "plt.show()\n",
    "\n"
   ]
  },
  {
   "cell_type": "markdown",
   "metadata": {},
   "source": [
    "Let's select k = 5 and n_init+7 based on the above results"
   ]
  },
  {
   "cell_type": "code",
   "execution_count": 14,
   "metadata": {},
   "outputs": [
    {
     "data": {
      "text/plain": [
       "array([2, 4, 1, 2, 4, 4, 1, 3, 3, 1, 4, 4, 1, 4, 4, 3, 1, 2, 1, 1, 4, 1,\n",
       "       4, 3, 4, 2, 2, 1, 2, 3, 1, 2, 2, 4, 1, 4, 2, 2, 2, 4, 2, 4, 4, 4,\n",
       "       3, 1, 1, 1, 4, 2, 2, 4, 1, 3, 3, 1, 2, 4, 3, 2, 3, 1, 1, 2, 2, 1,\n",
       "       2, 4, 3, 1, 1, 1, 1, 3, 3, 3, 1, 3, 1, 1, 2, 2, 3, 1, 1, 4, 4, 2,\n",
       "       2, 1, 4, 0, 4, 2, 2, 4, 4, 2, 0, 2, 4, 4, 4, 1, 4, 1, 2, 1, 1, 1,\n",
       "       3, 3, 2, 2, 3, 1, 2, 4, 1, 1, 1, 4, 4, 3, 4, 1, 2, 1, 1, 2, 4, 4,\n",
       "       2, 0, 4, 4, 1, 1, 4, 3, 1, 1, 2, 1, 3, 3, 1, 2, 4, 2, 2, 1, 4, 4,\n",
       "       1, 2, 4, 3, 3, 3, 4, 1, 1, 1, 4, 2, 2])"
      ]
     },
     "execution_count": 14,
     "metadata": {},
     "output_type": "execute_result"
    }
   ],
   "source": [
    "# Run K-means algorithm\n",
    "km5 = KMeans(n_clusters=5, n_init=7, random_state=0)\n",
    "yp5 = km5.fit_predict(num_df)\n",
    "yp5"
   ]
  },
  {
   "cell_type": "code",
   "execution_count": 15,
   "metadata": {},
   "outputs": [
    {
     "name": "stdout",
     "output_type": "stream",
     "text": [
      "<class 'pandas.core.frame.DataFrame'>\n",
      "RangeIndex: 167 entries, 0 to 166\n",
      "Data columns (total 11 columns):\n",
      " #   Column      Non-Null Count  Dtype  \n",
      "---  ------      --------------  -----  \n",
      " 0   country     167 non-null    object \n",
      " 1   child_mort  167 non-null    float64\n",
      " 2   exports     167 non-null    float64\n",
      " 3   health      167 non-null    float64\n",
      " 4   imports     167 non-null    float64\n",
      " 5   income      167 non-null    float64\n",
      " 6   inflation   167 non-null    float64\n",
      " 7   life_expec  167 non-null    float64\n",
      " 8   total_fer   167 non-null    float64\n",
      " 9   gdpp        167 non-null    float64\n",
      " 10  cluster     167 non-null    int32  \n",
      "dtypes: float64(9), int32(1), object(1)\n",
      "memory usage: 13.8+ KB\n"
     ]
    }
   ],
   "source": [
    "df['cluster']=yp5\n",
    "df.info()"
   ]
  },
  {
   "cell_type": "code",
   "execution_count": 16,
   "metadata": {},
   "outputs": [
    {
     "name": "stdout",
     "output_type": "stream",
     "text": [
      "Cluster 2: Afghanistan, Angola, Benin, Burkina Faso, Burundi, Cameroon, Central African Republic, Chad, Comoros, Congo, Dem. Rep., Congo, Rep., Cote d'Ivoire, Equatorial Guinea, Eritrea, Gambia, Ghana, Guinea, Guinea-Bissau, Haiti, Kenya, Kiribati, Lesotho, Liberia, Madagascar, Malawi, Mali, Mauritania, Mozambique, Niger, Nigeria, Pakistan, Rwanda, Senegal, Sierra Leone, Sudan, Tanzania, Timor-Leste, Togo, Uganda, Yemen, Zambia\n",
      "Cluster 4: Albania, Antigua and Barbuda, Argentina, Bahamas, Bahrain, Barbados, Belarus, Bosnia and Herzegovina, Brazil, Bulgaria, Chile, Colombia, Costa Rica, Croatia, Cyprus, Czech Republic, El Salvador, Estonia, Georgia, Hungary, Latvia, Lebanon, Lithuania, Macedonia, FYR, Malaysia, Maldives, Mauritius, Micronesia, Fed. Sts., Moldova, Montenegro, Panama, Poland, Portugal, Romania, Serbia, Seychelles, Slovak Republic, Slovenia, South Korea, Thailand, Tunisia, Turkey, Ukraine, Uruguay, Vietnam\n",
      "Cluster 1: Algeria, Armenia, Azerbaijan, Bangladesh, Belize, Bhutan, Bolivia, Botswana, Cambodia, Cape Verde, China, Dominican Republic, Ecuador, Egypt, Fiji, Gabon, Grenada, Guatemala, Guyana, India, Indonesia, Iran, Iraq, Jamaica, Jordan, Kazakhstan, Kyrgyz Republic, Lao, Libya, Mongolia, Morocco, Myanmar, Namibia, Nepal, Oman, Paraguay, Peru, Philippines, Russia, Samoa, Saudi Arabia, Solomon Islands, South Africa, Sri Lanka, St. Vincent and the Grenadines, Suriname, Tajikistan, Tonga, Turkmenistan, Uzbekistan, Vanuatu, Venezuela\n",
      "Cluster 3: Australia, Austria, Belgium, Brunei, Canada, Denmark, Finland, France, Germany, Greece, Iceland, Ireland, Israel, Italy, Japan, Kuwait, Netherlands, New Zealand, Norway, Qatar, Spain, Sweden, Switzerland, United Arab Emirates, United Kingdom, United States\n",
      "Cluster 0: Luxembourg, Malta, Singapore\n"
     ]
    }
   ],
   "source": [
    "for cluster in df['cluster'].unique():\n",
    "    countries_in_cluster = df[df['cluster'] == cluster]['country'].tolist()\n",
    "    print(f\"Cluster {cluster}: {', '.join(countries_in_cluster)}\")"
   ]
  }
 ],
 "metadata": {
  "kernelspec": {
   "display_name": "Python 3",
   "language": "python",
   "name": "python3"
  },
  "language_info": {
   "codemirror_mode": {
    "name": "ipython",
    "version": 3
   },
   "file_extension": ".py",
   "mimetype": "text/x-python",
   "name": "python",
   "nbconvert_exporter": "python",
   "pygments_lexer": "ipython3",
   "version": "3.11.4"
  }
 },
 "nbformat": 4,
 "nbformat_minor": 2
}
