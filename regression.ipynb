{
 "cells": [
  {
   "cell_type": "code",
   "execution_count": 1,
   "metadata": {},
   "outputs": [
    {
     "data": {
      "text/plain": [
       "array([[  2600, 550000],\n",
       "       [  3000, 565000],\n",
       "       [  3200, 610000],\n",
       "       [  3600, 680000],\n",
       "       [  4000, 725000]])"
      ]
     },
     "execution_count": 1,
     "metadata": {},
     "output_type": "execute_result"
    }
   ],
   "source": [
    "import numpy as np\n",
    "\n",
    "area = np.array([2600, 3000, 3200, 3600, 4000])\n",
    "price = np.array([550000, 565000, 610000, 680000, 725000])\n",
    "data = np.vstack((area, price)).T\n",
    "\n",
    "data\n"
   ]
  },
  {
   "cell_type": "code",
   "execution_count": 2,
   "metadata": {},
   "outputs": [],
   "source": [
    "# Fit a linear model (degree=1)\n",
    "coefficients = np.polyfit(area, price, 1)\n",
    "\n",
    "# Extract the slope and intercept\n",
    "slope, intercept = coefficients"
   ]
  },
  {
   "cell_type": "code",
   "execution_count": 3,
   "metadata": {},
   "outputs": [
    {
     "data": {
      "text/plain": [
       "135.78767123287656"
      ]
     },
     "execution_count": 3,
     "metadata": {},
     "output_type": "execute_result"
    }
   ],
   "source": [
    "slope"
   ]
  },
  {
   "cell_type": "code",
   "execution_count": 4,
   "metadata": {},
   "outputs": [
    {
     "data": {
      "text/plain": [
       "180616.43835616505"
      ]
     },
     "execution_count": 4,
     "metadata": {},
     "output_type": "execute_result"
    }
   ],
   "source": [
    "intercept"
   ]
  },
  {
   "cell_type": "code",
   "execution_count": 5,
   "metadata": {},
   "outputs": [
    {
     "name": "stdout",
     "output_type": "stream",
     "text": [
      "Linear Regression Equation: price = 135.79 * area + 180616.44\n"
     ]
    }
   ],
   "source": [
    "print(\"Linear Regression Equation: price = {:.2f} * area + {:.2f}\".format(slope, intercept))"
   ]
  },
  {
   "cell_type": "code",
   "execution_count": 6,
   "metadata": {},
   "outputs": [
    {
     "name": "stdout",
     "output_type": "stream",
     "text": [
      "Predicted Price for 3300 square feet: $628715.75\n"
     ]
    }
   ],
   "source": [
    "area = 3300  # The area for which you want to predict the price\n",
    "\n",
    "# Using the linear regression equation\n",
    "price = slope * area + intercept\n",
    "\n",
    "print(\"Predicted Price for {} square feet: ${:.2f}\".format(area, price))\n"
   ]
  },
  {
   "cell_type": "code",
   "execution_count": 7,
   "metadata": {},
   "outputs": [
    {
     "name": "stdout",
     "output_type": "stream",
     "text": [
      "Predicted Price for 5000 square feet: $859554.79\n"
     ]
    }
   ],
   "source": [
    "area = 5000  # The area for which you want to predict the price\n",
    "\n",
    "# Using the linear regression equation\n",
    "price = slope * area + intercept\n",
    "\n",
    "print(\"Predicted Price for {} square feet: ${:.2f}\".format(area, price))\n"
   ]
  }
 ],
 "metadata": {
  "kernelspec": {
   "display_name": "Python 3",
   "language": "python",
   "name": "python3"
  },
  "language_info": {
   "codemirror_mode": {
    "name": "ipython",
    "version": 3
   },
   "file_extension": ".py",
   "mimetype": "text/x-python",
   "name": "python",
   "nbconvert_exporter": "python",
   "pygments_lexer": "ipython3",
   "version": "3.11.4"
  }
 },
 "nbformat": 4,
 "nbformat_minor": 2
}
